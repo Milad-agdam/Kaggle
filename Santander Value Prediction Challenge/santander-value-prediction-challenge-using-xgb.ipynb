{
 "cells": [
  {
   "cell_type": "code",
   "execution_count": 1,
   "id": "bd23297e",
   "metadata": {
    "_cell_guid": "b1076dfc-b9ad-4769-8c92-a6c4dae69d19",
    "_uuid": "8f2839f25d086af736a60e9eeb907d3b93b6e0e5",
    "execution": {
     "iopub.execute_input": "2021-10-18T11:08:34.589327Z",
     "iopub.status.busy": "2021-10-18T11:08:34.587274Z",
     "iopub.status.idle": "2021-10-18T11:08:36.634454Z",
     "shell.execute_reply": "2021-10-18T11:08:36.633850Z",
     "shell.execute_reply.started": "2021-10-18T09:09:18.704562Z"
    },
    "papermill": {
     "duration": 2.068999,
     "end_time": "2021-10-18T11:08:36.634663",
     "exception": false,
     "start_time": "2021-10-18T11:08:34.565664",
     "status": "completed"
    },
    "tags": []
   },
   "outputs": [
    {
     "data": {
      "text/html": [
       "<style type='text/css'>\n",
       ".datatable table.frame { margin-bottom: 0; }\n",
       ".datatable table.frame thead { border-bottom: none; }\n",
       ".datatable table.frame tr.coltypes td {  color: #FFFFFF;  line-height: 6px;  padding: 0 0.5em;}\n",
       ".datatable .bool    { background: #DDDD99; }\n",
       ".datatable .object  { background: #565656; }\n",
       ".datatable .int     { background: #5D9E5D; }\n",
       ".datatable .float   { background: #4040CC; }\n",
       ".datatable .str     { background: #CC4040; }\n",
       ".datatable .time    { background: #40CC40; }\n",
       ".datatable .row_index {  background: var(--jp-border-color3);  border-right: 1px solid var(--jp-border-color0);  color: var(--jp-ui-font-color3);  font-size: 9px;}\n",
       ".datatable .frame tbody td { text-align: left; }\n",
       ".datatable .frame tr.coltypes .row_index {  background: var(--jp-border-color0);}\n",
       ".datatable th:nth-child(2) { padding-left: 12px; }\n",
       ".datatable .hellipsis {  color: var(--jp-cell-editor-border-color);}\n",
       ".datatable .vellipsis {  background: var(--jp-layout-color0);  color: var(--jp-cell-editor-border-color);}\n",
       ".datatable .na {  color: var(--jp-cell-editor-border-color);  font-size: 80%;}\n",
       ".datatable .sp {  opacity: 0.25;}\n",
       ".datatable .footer { font-size: 9px; }\n",
       ".datatable .frame_dimensions {  background: var(--jp-border-color3);  border-top: 1px solid var(--jp-border-color0);  color: var(--jp-ui-font-color3);  display: inline-block;  opacity: 0.6;  padding: 1px 10px 1px 5px;}\n",
       "</style>\n"
      ],
      "text/plain": [
       "<IPython.core.display.HTML object>"
      ]
     },
     "metadata": {},
     "output_type": "display_data"
    }
   ],
   "source": [
    "import numpy as np # linear algebra\n",
    "import pandas as pd # data processing, CSV file I/O (e.g. pd.read_csv)\n",
    "\n",
    "#import gc\n",
    "import matplotlib.pyplot as plt\n",
    "import seaborn as sns\n",
    "\n",
    "\n",
    "\n",
    "from sklearn.metrics import mean_squared_error\n",
    "import lightgbm as lgb\n",
    "import xgboost as xgb\n",
    "\n",
    "import warnings\n",
    "warnings.filterwarnings('ignore')"
   ]
  },
  {
   "cell_type": "code",
   "execution_count": 2,
   "id": "f1ef8b34",
   "metadata": {
    "execution": {
     "iopub.execute_input": "2021-10-18T11:08:36.666618Z",
     "iopub.status.busy": "2021-10-18T11:08:36.664431Z",
     "iopub.status.idle": "2021-10-18T11:09:35.282492Z",
     "shell.execute_reply": "2021-10-18T11:09:35.281946Z",
     "shell.execute_reply.started": "2021-10-18T09:09:18.714579Z"
    },
    "papermill": {
     "duration": 58.634312,
     "end_time": "2021-10-18T11:09:35.282700",
     "exception": false,
     "start_time": "2021-10-18T11:08:36.648388",
     "status": "completed"
    },
    "tags": []
   },
   "outputs": [],
   "source": [
    "train_df = pd.read_csv('/kaggle/input/santander-value-prediction-challenge/train.csv')\n",
    "test_df = pd.read_csv('/kaggle/input/santander-value-prediction-challenge/test.csv')"
   ]
  },
  {
   "cell_type": "markdown",
   "id": "65c25595",
   "metadata": {
    "papermill": {
     "duration": 0.012915,
     "end_time": "2021-10-18T11:09:35.308907",
     "exception": false,
     "start_time": "2021-10-18T11:09:35.295992",
     "status": "completed"
    },
    "tags": []
   },
   "source": [
    "# EDA"
   ]
  },
  {
   "cell_type": "code",
   "execution_count": 3,
   "id": "db9cc69c",
   "metadata": {
    "execution": {
     "iopub.execute_input": "2021-10-18T11:09:35.338759Z",
     "iopub.status.busy": "2021-10-18T11:09:35.337856Z",
     "iopub.status.idle": "2021-10-18T11:09:35.345084Z",
     "shell.execute_reply": "2021-10-18T11:09:35.345759Z",
     "shell.execute_reply.started": "2021-10-18T09:10:38.255027Z"
    },
    "papermill": {
     "duration": 0.024067,
     "end_time": "2021-10-18T11:09:35.346008",
     "exception": false,
     "start_time": "2021-10-18T11:09:35.321941",
     "status": "completed"
    },
    "tags": []
   },
   "outputs": [
    {
     "name": "stdout",
     "output_type": "stream",
     "text": [
      "Shape of train data (4459, 4993)\n",
      "Shape of test data (49342, 4992)\n"
     ]
    }
   ],
   "source": [
    "print('Shape of train data', train_df.shape)\n",
    "print('Shape of test data', test_df.shape)"
   ]
  },
  {
   "cell_type": "code",
   "execution_count": 4,
   "id": "d68af169",
   "metadata": {
    "execution": {
     "iopub.execute_input": "2021-10-18T11:09:35.376308Z",
     "iopub.status.busy": "2021-10-18T11:09:35.375717Z",
     "iopub.status.idle": "2021-10-18T11:09:35.906787Z",
     "shell.execute_reply": "2021-10-18T11:09:35.907284Z",
     "shell.execute_reply.started": "2021-10-18T09:10:38.26246Z"
    },
    "papermill": {
     "duration": 0.5476,
     "end_time": "2021-10-18T11:09:35.907450",
     "exception": false,
     "start_time": "2021-10-18T11:09:35.359850",
     "status": "completed"
    },
    "tags": []
   },
   "outputs": [
    {
     "name": "stdout",
     "output_type": "stream",
     "text": [
      "num of null values in train set 0\n",
      "num of null values in test set 0\n"
     ]
    }
   ],
   "source": [
    "# check for null values\n",
    "print('num of null values in train set', train_df.isnull().sum().sum())\n",
    "\n",
    "# check for null values\n",
    "print('num of null values in test set', test_df.isnull().sum().sum())"
   ]
  },
  {
   "cell_type": "code",
   "execution_count": 5,
   "id": "d37552c7",
   "metadata": {
    "execution": {
     "iopub.execute_input": "2021-10-18T11:09:35.937932Z",
     "iopub.status.busy": "2021-10-18T11:09:35.937324Z",
     "iopub.status.idle": "2021-10-18T11:09:35.968673Z",
     "shell.execute_reply": "2021-10-18T11:09:35.969113Z",
     "shell.execute_reply.started": "2021-10-18T09:10:38.886909Z"
    },
    "papermill": {
     "duration": 0.048179,
     "end_time": "2021-10-18T11:09:35.969273",
     "exception": false,
     "start_time": "2021-10-18T11:09:35.921094",
     "status": "completed"
    },
    "tags": []
   },
   "outputs": [
    {
     "data": {
      "text/html": [
       "<div>\n",
       "<style scoped>\n",
       "    .dataframe tbody tr th:only-of-type {\n",
       "        vertical-align: middle;\n",
       "    }\n",
       "\n",
       "    .dataframe tbody tr th {\n",
       "        vertical-align: top;\n",
       "    }\n",
       "\n",
       "    .dataframe thead th {\n",
       "        text-align: right;\n",
       "    }\n",
       "</style>\n",
       "<table border=\"1\" class=\"dataframe\">\n",
       "  <thead>\n",
       "    <tr style=\"text-align: right;\">\n",
       "      <th></th>\n",
       "      <th>ID</th>\n",
       "      <th>target</th>\n",
       "      <th>48df886f9</th>\n",
       "      <th>0deb4b6a8</th>\n",
       "      <th>34b15f335</th>\n",
       "      <th>a8cb14b00</th>\n",
       "      <th>2f0771a37</th>\n",
       "      <th>30347e683</th>\n",
       "      <th>d08d1fbe3</th>\n",
       "      <th>6ee66e115</th>\n",
       "      <th>...</th>\n",
       "      <th>3ecc09859</th>\n",
       "      <th>9281abeea</th>\n",
       "      <th>8675bec0b</th>\n",
       "      <th>3a13ed79a</th>\n",
       "      <th>f677d4d13</th>\n",
       "      <th>71b203550</th>\n",
       "      <th>137efaa80</th>\n",
       "      <th>fb36b89d9</th>\n",
       "      <th>7e293fbaf</th>\n",
       "      <th>9fc776466</th>\n",
       "    </tr>\n",
       "  </thead>\n",
       "  <tbody>\n",
       "    <tr>\n",
       "      <th>0</th>\n",
       "      <td>000d6aaf2</td>\n",
       "      <td>38000000.0</td>\n",
       "      <td>0.0</td>\n",
       "      <td>0</td>\n",
       "      <td>0.0</td>\n",
       "      <td>0</td>\n",
       "      <td>0</td>\n",
       "      <td>0</td>\n",
       "      <td>0</td>\n",
       "      <td>0</td>\n",
       "      <td>...</td>\n",
       "      <td>0.0</td>\n",
       "      <td>0.0</td>\n",
       "      <td>0.0</td>\n",
       "      <td>0</td>\n",
       "      <td>0</td>\n",
       "      <td>0</td>\n",
       "      <td>0</td>\n",
       "      <td>0</td>\n",
       "      <td>0</td>\n",
       "      <td>0</td>\n",
       "    </tr>\n",
       "    <tr>\n",
       "      <th>1</th>\n",
       "      <td>000fbd867</td>\n",
       "      <td>600000.0</td>\n",
       "      <td>0.0</td>\n",
       "      <td>0</td>\n",
       "      <td>0.0</td>\n",
       "      <td>0</td>\n",
       "      <td>0</td>\n",
       "      <td>0</td>\n",
       "      <td>0</td>\n",
       "      <td>0</td>\n",
       "      <td>...</td>\n",
       "      <td>0.0</td>\n",
       "      <td>0.0</td>\n",
       "      <td>0.0</td>\n",
       "      <td>0</td>\n",
       "      <td>0</td>\n",
       "      <td>0</td>\n",
       "      <td>0</td>\n",
       "      <td>0</td>\n",
       "      <td>0</td>\n",
       "      <td>0</td>\n",
       "    </tr>\n",
       "    <tr>\n",
       "      <th>2</th>\n",
       "      <td>0027d6b71</td>\n",
       "      <td>10000000.0</td>\n",
       "      <td>0.0</td>\n",
       "      <td>0</td>\n",
       "      <td>0.0</td>\n",
       "      <td>0</td>\n",
       "      <td>0</td>\n",
       "      <td>0</td>\n",
       "      <td>0</td>\n",
       "      <td>0</td>\n",
       "      <td>...</td>\n",
       "      <td>0.0</td>\n",
       "      <td>0.0</td>\n",
       "      <td>0.0</td>\n",
       "      <td>0</td>\n",
       "      <td>0</td>\n",
       "      <td>0</td>\n",
       "      <td>0</td>\n",
       "      <td>0</td>\n",
       "      <td>0</td>\n",
       "      <td>0</td>\n",
       "    </tr>\n",
       "    <tr>\n",
       "      <th>3</th>\n",
       "      <td>0028cbf45</td>\n",
       "      <td>2000000.0</td>\n",
       "      <td>0.0</td>\n",
       "      <td>0</td>\n",
       "      <td>0.0</td>\n",
       "      <td>0</td>\n",
       "      <td>0</td>\n",
       "      <td>0</td>\n",
       "      <td>0</td>\n",
       "      <td>0</td>\n",
       "      <td>...</td>\n",
       "      <td>0.0</td>\n",
       "      <td>0.0</td>\n",
       "      <td>0.0</td>\n",
       "      <td>0</td>\n",
       "      <td>0</td>\n",
       "      <td>0</td>\n",
       "      <td>0</td>\n",
       "      <td>0</td>\n",
       "      <td>0</td>\n",
       "      <td>0</td>\n",
       "    </tr>\n",
       "    <tr>\n",
       "      <th>4</th>\n",
       "      <td>002a68644</td>\n",
       "      <td>14400000.0</td>\n",
       "      <td>0.0</td>\n",
       "      <td>0</td>\n",
       "      <td>0.0</td>\n",
       "      <td>0</td>\n",
       "      <td>0</td>\n",
       "      <td>0</td>\n",
       "      <td>0</td>\n",
       "      <td>0</td>\n",
       "      <td>...</td>\n",
       "      <td>0.0</td>\n",
       "      <td>0.0</td>\n",
       "      <td>0.0</td>\n",
       "      <td>0</td>\n",
       "      <td>0</td>\n",
       "      <td>0</td>\n",
       "      <td>0</td>\n",
       "      <td>0</td>\n",
       "      <td>0</td>\n",
       "      <td>0</td>\n",
       "    </tr>\n",
       "    <tr>\n",
       "      <th>5</th>\n",
       "      <td>002dbeb22</td>\n",
       "      <td>2800000.0</td>\n",
       "      <td>0.0</td>\n",
       "      <td>0</td>\n",
       "      <td>0.0</td>\n",
       "      <td>0</td>\n",
       "      <td>0</td>\n",
       "      <td>0</td>\n",
       "      <td>0</td>\n",
       "      <td>0</td>\n",
       "      <td>...</td>\n",
       "      <td>12000.0</td>\n",
       "      <td>5600000.0</td>\n",
       "      <td>20000000.0</td>\n",
       "      <td>0</td>\n",
       "      <td>0</td>\n",
       "      <td>0</td>\n",
       "      <td>0</td>\n",
       "      <td>0</td>\n",
       "      <td>0</td>\n",
       "      <td>11000</td>\n",
       "    </tr>\n",
       "    <tr>\n",
       "      <th>6</th>\n",
       "      <td>003925ac6</td>\n",
       "      <td>164000.0</td>\n",
       "      <td>0.0</td>\n",
       "      <td>0</td>\n",
       "      <td>0.0</td>\n",
       "      <td>0</td>\n",
       "      <td>0</td>\n",
       "      <td>0</td>\n",
       "      <td>0</td>\n",
       "      <td>0</td>\n",
       "      <td>...</td>\n",
       "      <td>0.0</td>\n",
       "      <td>0.0</td>\n",
       "      <td>0.0</td>\n",
       "      <td>0</td>\n",
       "      <td>0</td>\n",
       "      <td>0</td>\n",
       "      <td>40000</td>\n",
       "      <td>0</td>\n",
       "      <td>0</td>\n",
       "      <td>0</td>\n",
       "    </tr>\n",
       "    <tr>\n",
       "      <th>7</th>\n",
       "      <td>003eb0261</td>\n",
       "      <td>600000.0</td>\n",
       "      <td>0.0</td>\n",
       "      <td>0</td>\n",
       "      <td>0.0</td>\n",
       "      <td>0</td>\n",
       "      <td>0</td>\n",
       "      <td>0</td>\n",
       "      <td>0</td>\n",
       "      <td>0</td>\n",
       "      <td>...</td>\n",
       "      <td>0.0</td>\n",
       "      <td>0.0</td>\n",
       "      <td>0.0</td>\n",
       "      <td>0</td>\n",
       "      <td>0</td>\n",
       "      <td>0</td>\n",
       "      <td>0</td>\n",
       "      <td>0</td>\n",
       "      <td>0</td>\n",
       "      <td>0</td>\n",
       "    </tr>\n",
       "    <tr>\n",
       "      <th>8</th>\n",
       "      <td>004b92275</td>\n",
       "      <td>979000.0</td>\n",
       "      <td>0.0</td>\n",
       "      <td>0</td>\n",
       "      <td>0.0</td>\n",
       "      <td>0</td>\n",
       "      <td>0</td>\n",
       "      <td>0</td>\n",
       "      <td>0</td>\n",
       "      <td>0</td>\n",
       "      <td>...</td>\n",
       "      <td>0.0</td>\n",
       "      <td>0.0</td>\n",
       "      <td>4000000.0</td>\n",
       "      <td>0</td>\n",
       "      <td>0</td>\n",
       "      <td>0</td>\n",
       "      <td>0</td>\n",
       "      <td>0</td>\n",
       "      <td>0</td>\n",
       "      <td>0</td>\n",
       "    </tr>\n",
       "    <tr>\n",
       "      <th>9</th>\n",
       "      <td>0067b4fef</td>\n",
       "      <td>460000.0</td>\n",
       "      <td>0.0</td>\n",
       "      <td>0</td>\n",
       "      <td>0.0</td>\n",
       "      <td>0</td>\n",
       "      <td>0</td>\n",
       "      <td>0</td>\n",
       "      <td>0</td>\n",
       "      <td>0</td>\n",
       "      <td>...</td>\n",
       "      <td>0.0</td>\n",
       "      <td>0.0</td>\n",
       "      <td>0.0</td>\n",
       "      <td>0</td>\n",
       "      <td>0</td>\n",
       "      <td>0</td>\n",
       "      <td>0</td>\n",
       "      <td>0</td>\n",
       "      <td>0</td>\n",
       "      <td>400000</td>\n",
       "    </tr>\n",
       "  </tbody>\n",
       "</table>\n",
       "<p>10 rows × 4993 columns</p>\n",
       "</div>"
      ],
      "text/plain": [
       "          ID      target  48df886f9  0deb4b6a8  34b15f335  a8cb14b00  \\\n",
       "0  000d6aaf2  38000000.0        0.0          0        0.0          0   \n",
       "1  000fbd867    600000.0        0.0          0        0.0          0   \n",
       "2  0027d6b71  10000000.0        0.0          0        0.0          0   \n",
       "3  0028cbf45   2000000.0        0.0          0        0.0          0   \n",
       "4  002a68644  14400000.0        0.0          0        0.0          0   \n",
       "5  002dbeb22   2800000.0        0.0          0        0.0          0   \n",
       "6  003925ac6    164000.0        0.0          0        0.0          0   \n",
       "7  003eb0261    600000.0        0.0          0        0.0          0   \n",
       "8  004b92275    979000.0        0.0          0        0.0          0   \n",
       "9  0067b4fef    460000.0        0.0          0        0.0          0   \n",
       "\n",
       "   2f0771a37  30347e683  d08d1fbe3  6ee66e115  ...  3ecc09859  9281abeea  \\\n",
       "0          0          0          0          0  ...        0.0        0.0   \n",
       "1          0          0          0          0  ...        0.0        0.0   \n",
       "2          0          0          0          0  ...        0.0        0.0   \n",
       "3          0          0          0          0  ...        0.0        0.0   \n",
       "4          0          0          0          0  ...        0.0        0.0   \n",
       "5          0          0          0          0  ...    12000.0  5600000.0   \n",
       "6          0          0          0          0  ...        0.0        0.0   \n",
       "7          0          0          0          0  ...        0.0        0.0   \n",
       "8          0          0          0          0  ...        0.0        0.0   \n",
       "9          0          0          0          0  ...        0.0        0.0   \n",
       "\n",
       "    8675bec0b  3a13ed79a  f677d4d13  71b203550  137efaa80  fb36b89d9  \\\n",
       "0         0.0          0          0          0          0          0   \n",
       "1         0.0          0          0          0          0          0   \n",
       "2         0.0          0          0          0          0          0   \n",
       "3         0.0          0          0          0          0          0   \n",
       "4         0.0          0          0          0          0          0   \n",
       "5  20000000.0          0          0          0          0          0   \n",
       "6         0.0          0          0          0      40000          0   \n",
       "7         0.0          0          0          0          0          0   \n",
       "8   4000000.0          0          0          0          0          0   \n",
       "9         0.0          0          0          0          0          0   \n",
       "\n",
       "   7e293fbaf  9fc776466  \n",
       "0          0          0  \n",
       "1          0          0  \n",
       "2          0          0  \n",
       "3          0          0  \n",
       "4          0          0  \n",
       "5          0      11000  \n",
       "6          0          0  \n",
       "7          0          0  \n",
       "8          0          0  \n",
       "9          0     400000  \n",
       "\n",
       "[10 rows x 4993 columns]"
      ]
     },
     "execution_count": 5,
     "metadata": {},
     "output_type": "execute_result"
    }
   ],
   "source": [
    "train_df.head(10)"
   ]
  },
  {
   "cell_type": "code",
   "execution_count": 6,
   "id": "b6aecef6",
   "metadata": {
    "execution": {
     "iopub.execute_input": "2021-10-18T11:09:36.005752Z",
     "iopub.status.busy": "2021-10-18T11:09:36.003566Z",
     "iopub.status.idle": "2021-10-18T11:09:36.026466Z",
     "shell.execute_reply": "2021-10-18T11:09:36.026878Z",
     "shell.execute_reply.started": "2021-10-18T09:10:38.929353Z"
    },
    "papermill": {
     "duration": 0.0434,
     "end_time": "2021-10-18T11:09:36.027055",
     "exception": false,
     "start_time": "2021-10-18T11:09:35.983655",
     "status": "completed"
    },
    "tags": []
   },
   "outputs": [
    {
     "data": {
      "text/html": [
       "<div>\n",
       "<style scoped>\n",
       "    .dataframe tbody tr th:only-of-type {\n",
       "        vertical-align: middle;\n",
       "    }\n",
       "\n",
       "    .dataframe tbody tr th {\n",
       "        vertical-align: top;\n",
       "    }\n",
       "\n",
       "    .dataframe thead th {\n",
       "        text-align: right;\n",
       "    }\n",
       "</style>\n",
       "<table border=\"1\" class=\"dataframe\">\n",
       "  <thead>\n",
       "    <tr style=\"text-align: right;\">\n",
       "      <th></th>\n",
       "      <th>ID</th>\n",
       "      <th>target</th>\n",
       "      <th>48df886f9</th>\n",
       "      <th>0deb4b6a8</th>\n",
       "      <th>34b15f335</th>\n",
       "      <th>a8cb14b00</th>\n",
       "      <th>2f0771a37</th>\n",
       "      <th>30347e683</th>\n",
       "      <th>d08d1fbe3</th>\n",
       "      <th>6ee66e115</th>\n",
       "      <th>...</th>\n",
       "      <th>3ecc09859</th>\n",
       "      <th>9281abeea</th>\n",
       "      <th>8675bec0b</th>\n",
       "      <th>3a13ed79a</th>\n",
       "      <th>f677d4d13</th>\n",
       "      <th>71b203550</th>\n",
       "      <th>137efaa80</th>\n",
       "      <th>fb36b89d9</th>\n",
       "      <th>7e293fbaf</th>\n",
       "      <th>9fc776466</th>\n",
       "    </tr>\n",
       "  </thead>\n",
       "  <tbody>\n",
       "    <tr>\n",
       "      <th>4449</th>\n",
       "      <td>ff3d0e888</td>\n",
       "      <td>10000000.0</td>\n",
       "      <td>0.0</td>\n",
       "      <td>0</td>\n",
       "      <td>0.0</td>\n",
       "      <td>0</td>\n",
       "      <td>0</td>\n",
       "      <td>0</td>\n",
       "      <td>0</td>\n",
       "      <td>0</td>\n",
       "      <td>...</td>\n",
       "      <td>0.0</td>\n",
       "      <td>0.0</td>\n",
       "      <td>0.0</td>\n",
       "      <td>0</td>\n",
       "      <td>0</td>\n",
       "      <td>0</td>\n",
       "      <td>0</td>\n",
       "      <td>0</td>\n",
       "      <td>0</td>\n",
       "      <td>0</td>\n",
       "    </tr>\n",
       "    <tr>\n",
       "      <th>4450</th>\n",
       "      <td>ff3e1f24c</td>\n",
       "      <td>21700000.0</td>\n",
       "      <td>0.0</td>\n",
       "      <td>0</td>\n",
       "      <td>0.0</td>\n",
       "      <td>0</td>\n",
       "      <td>0</td>\n",
       "      <td>0</td>\n",
       "      <td>0</td>\n",
       "      <td>0</td>\n",
       "      <td>...</td>\n",
       "      <td>0.0</td>\n",
       "      <td>0.0</td>\n",
       "      <td>0.0</td>\n",
       "      <td>0</td>\n",
       "      <td>0</td>\n",
       "      <td>0</td>\n",
       "      <td>0</td>\n",
       "      <td>0</td>\n",
       "      <td>0</td>\n",
       "      <td>0</td>\n",
       "    </tr>\n",
       "    <tr>\n",
       "      <th>4451</th>\n",
       "      <td>ff7b7c367</td>\n",
       "      <td>21320000.0</td>\n",
       "      <td>0.0</td>\n",
       "      <td>0</td>\n",
       "      <td>0.0</td>\n",
       "      <td>0</td>\n",
       "      <td>0</td>\n",
       "      <td>0</td>\n",
       "      <td>0</td>\n",
       "      <td>0</td>\n",
       "      <td>...</td>\n",
       "      <td>0.0</td>\n",
       "      <td>0.0</td>\n",
       "      <td>0.0</td>\n",
       "      <td>0</td>\n",
       "      <td>0</td>\n",
       "      <td>0</td>\n",
       "      <td>0</td>\n",
       "      <td>0</td>\n",
       "      <td>0</td>\n",
       "      <td>0</td>\n",
       "    </tr>\n",
       "    <tr>\n",
       "      <th>4452</th>\n",
       "      <td>ff7be29d2</td>\n",
       "      <td>400000.0</td>\n",
       "      <td>0.0</td>\n",
       "      <td>0</td>\n",
       "      <td>0.0</td>\n",
       "      <td>0</td>\n",
       "      <td>0</td>\n",
       "      <td>0</td>\n",
       "      <td>0</td>\n",
       "      <td>0</td>\n",
       "      <td>...</td>\n",
       "      <td>0.0</td>\n",
       "      <td>0.0</td>\n",
       "      <td>0.0</td>\n",
       "      <td>0</td>\n",
       "      <td>0</td>\n",
       "      <td>0</td>\n",
       "      <td>0</td>\n",
       "      <td>0</td>\n",
       "      <td>0</td>\n",
       "      <td>0</td>\n",
       "    </tr>\n",
       "    <tr>\n",
       "      <th>4453</th>\n",
       "      <td>ff7cdeb16</td>\n",
       "      <td>4000000.0</td>\n",
       "      <td>0.0</td>\n",
       "      <td>0</td>\n",
       "      <td>0.0</td>\n",
       "      <td>0</td>\n",
       "      <td>0</td>\n",
       "      <td>0</td>\n",
       "      <td>0</td>\n",
       "      <td>0</td>\n",
       "      <td>...</td>\n",
       "      <td>0.0</td>\n",
       "      <td>0.0</td>\n",
       "      <td>0.0</td>\n",
       "      <td>0</td>\n",
       "      <td>0</td>\n",
       "      <td>0</td>\n",
       "      <td>0</td>\n",
       "      <td>0</td>\n",
       "      <td>0</td>\n",
       "      <td>0</td>\n",
       "    </tr>\n",
       "    <tr>\n",
       "      <th>4454</th>\n",
       "      <td>ff85154c8</td>\n",
       "      <td>1065000.0</td>\n",
       "      <td>0.0</td>\n",
       "      <td>0</td>\n",
       "      <td>0.0</td>\n",
       "      <td>0</td>\n",
       "      <td>0</td>\n",
       "      <td>0</td>\n",
       "      <td>0</td>\n",
       "      <td>0</td>\n",
       "      <td>...</td>\n",
       "      <td>0.0</td>\n",
       "      <td>0.0</td>\n",
       "      <td>0.0</td>\n",
       "      <td>0</td>\n",
       "      <td>0</td>\n",
       "      <td>0</td>\n",
       "      <td>0</td>\n",
       "      <td>0</td>\n",
       "      <td>0</td>\n",
       "      <td>0</td>\n",
       "    </tr>\n",
       "    <tr>\n",
       "      <th>4455</th>\n",
       "      <td>ffb6b3f4f</td>\n",
       "      <td>48000.0</td>\n",
       "      <td>0.0</td>\n",
       "      <td>0</td>\n",
       "      <td>0.0</td>\n",
       "      <td>0</td>\n",
       "      <td>0</td>\n",
       "      <td>0</td>\n",
       "      <td>0</td>\n",
       "      <td>0</td>\n",
       "      <td>...</td>\n",
       "      <td>0.0</td>\n",
       "      <td>0.0</td>\n",
       "      <td>80000.0</td>\n",
       "      <td>0</td>\n",
       "      <td>0</td>\n",
       "      <td>0</td>\n",
       "      <td>0</td>\n",
       "      <td>0</td>\n",
       "      <td>0</td>\n",
       "      <td>0</td>\n",
       "    </tr>\n",
       "    <tr>\n",
       "      <th>4456</th>\n",
       "      <td>ffcf61eb6</td>\n",
       "      <td>2800000.0</td>\n",
       "      <td>0.0</td>\n",
       "      <td>0</td>\n",
       "      <td>0.0</td>\n",
       "      <td>0</td>\n",
       "      <td>0</td>\n",
       "      <td>0</td>\n",
       "      <td>0</td>\n",
       "      <td>0</td>\n",
       "      <td>...</td>\n",
       "      <td>0.0</td>\n",
       "      <td>0.0</td>\n",
       "      <td>0.0</td>\n",
       "      <td>0</td>\n",
       "      <td>0</td>\n",
       "      <td>0</td>\n",
       "      <td>0</td>\n",
       "      <td>0</td>\n",
       "      <td>0</td>\n",
       "      <td>0</td>\n",
       "    </tr>\n",
       "    <tr>\n",
       "      <th>4457</th>\n",
       "      <td>ffea67e98</td>\n",
       "      <td>10000000.0</td>\n",
       "      <td>0.0</td>\n",
       "      <td>0</td>\n",
       "      <td>0.0</td>\n",
       "      <td>0</td>\n",
       "      <td>0</td>\n",
       "      <td>0</td>\n",
       "      <td>0</td>\n",
       "      <td>0</td>\n",
       "      <td>...</td>\n",
       "      <td>0.0</td>\n",
       "      <td>0.0</td>\n",
       "      <td>0.0</td>\n",
       "      <td>0</td>\n",
       "      <td>0</td>\n",
       "      <td>0</td>\n",
       "      <td>0</td>\n",
       "      <td>0</td>\n",
       "      <td>0</td>\n",
       "      <td>0</td>\n",
       "    </tr>\n",
       "    <tr>\n",
       "      <th>4458</th>\n",
       "      <td>ffeb15d25</td>\n",
       "      <td>20000000.0</td>\n",
       "      <td>0.0</td>\n",
       "      <td>0</td>\n",
       "      <td>0.0</td>\n",
       "      <td>0</td>\n",
       "      <td>0</td>\n",
       "      <td>0</td>\n",
       "      <td>0</td>\n",
       "      <td>0</td>\n",
       "      <td>...</td>\n",
       "      <td>0.0</td>\n",
       "      <td>0.0</td>\n",
       "      <td>0.0</td>\n",
       "      <td>0</td>\n",
       "      <td>0</td>\n",
       "      <td>0</td>\n",
       "      <td>0</td>\n",
       "      <td>0</td>\n",
       "      <td>0</td>\n",
       "      <td>0</td>\n",
       "    </tr>\n",
       "  </tbody>\n",
       "</table>\n",
       "<p>10 rows × 4993 columns</p>\n",
       "</div>"
      ],
      "text/plain": [
       "             ID      target  48df886f9  0deb4b6a8  34b15f335  a8cb14b00  \\\n",
       "4449  ff3d0e888  10000000.0        0.0          0        0.0          0   \n",
       "4450  ff3e1f24c  21700000.0        0.0          0        0.0          0   \n",
       "4451  ff7b7c367  21320000.0        0.0          0        0.0          0   \n",
       "4452  ff7be29d2    400000.0        0.0          0        0.0          0   \n",
       "4453  ff7cdeb16   4000000.0        0.0          0        0.0          0   \n",
       "4454  ff85154c8   1065000.0        0.0          0        0.0          0   \n",
       "4455  ffb6b3f4f     48000.0        0.0          0        0.0          0   \n",
       "4456  ffcf61eb6   2800000.0        0.0          0        0.0          0   \n",
       "4457  ffea67e98  10000000.0        0.0          0        0.0          0   \n",
       "4458  ffeb15d25  20000000.0        0.0          0        0.0          0   \n",
       "\n",
       "      2f0771a37  30347e683  d08d1fbe3  6ee66e115  ...  3ecc09859  9281abeea  \\\n",
       "4449          0          0          0          0  ...        0.0        0.0   \n",
       "4450          0          0          0          0  ...        0.0        0.0   \n",
       "4451          0          0          0          0  ...        0.0        0.0   \n",
       "4452          0          0          0          0  ...        0.0        0.0   \n",
       "4453          0          0          0          0  ...        0.0        0.0   \n",
       "4454          0          0          0          0  ...        0.0        0.0   \n",
       "4455          0          0          0          0  ...        0.0        0.0   \n",
       "4456          0          0          0          0  ...        0.0        0.0   \n",
       "4457          0          0          0          0  ...        0.0        0.0   \n",
       "4458          0          0          0          0  ...        0.0        0.0   \n",
       "\n",
       "      8675bec0b  3a13ed79a  f677d4d13  71b203550  137efaa80  fb36b89d9  \\\n",
       "4449        0.0          0          0          0          0          0   \n",
       "4450        0.0          0          0          0          0          0   \n",
       "4451        0.0          0          0          0          0          0   \n",
       "4452        0.0          0          0          0          0          0   \n",
       "4453        0.0          0          0          0          0          0   \n",
       "4454        0.0          0          0          0          0          0   \n",
       "4455    80000.0          0          0          0          0          0   \n",
       "4456        0.0          0          0          0          0          0   \n",
       "4457        0.0          0          0          0          0          0   \n",
       "4458        0.0          0          0          0          0          0   \n",
       "\n",
       "      7e293fbaf  9fc776466  \n",
       "4449          0          0  \n",
       "4450          0          0  \n",
       "4451          0          0  \n",
       "4452          0          0  \n",
       "4453          0          0  \n",
       "4454          0          0  \n",
       "4455          0          0  \n",
       "4456          0          0  \n",
       "4457          0          0  \n",
       "4458          0          0  \n",
       "\n",
       "[10 rows x 4993 columns]"
      ]
     },
     "execution_count": 6,
     "metadata": {},
     "output_type": "execute_result"
    }
   ],
   "source": [
    "train_df.tail(10)"
   ]
  },
  {
   "cell_type": "code",
   "execution_count": 7,
   "id": "0f3cede1",
   "metadata": {
    "execution": {
     "iopub.execute_input": "2021-10-18T11:09:36.070421Z",
     "iopub.status.busy": "2021-10-18T11:09:36.067331Z",
     "iopub.status.idle": "2021-10-18T11:09:36.079870Z",
     "shell.execute_reply": "2021-10-18T11:09:36.079310Z",
     "shell.execute_reply.started": "2021-10-18T09:10:38.965526Z"
    },
    "papermill": {
     "duration": 0.038078,
     "end_time": "2021-10-18T11:09:36.080009",
     "exception": false,
     "start_time": "2021-10-18T11:09:36.041931",
     "status": "completed"
    },
    "tags": []
   },
   "outputs": [
    {
     "data": {
      "text/html": [
       "<div>\n",
       "<style scoped>\n",
       "    .dataframe tbody tr th:only-of-type {\n",
       "        vertical-align: middle;\n",
       "    }\n",
       "\n",
       "    .dataframe tbody tr th {\n",
       "        vertical-align: top;\n",
       "    }\n",
       "\n",
       "    .dataframe thead th {\n",
       "        text-align: right;\n",
       "    }\n",
       "</style>\n",
       "<table border=\"1\" class=\"dataframe\">\n",
       "  <thead>\n",
       "    <tr style=\"text-align: right;\">\n",
       "      <th></th>\n",
       "      <th>Column Type</th>\n",
       "      <th>Count</th>\n",
       "    </tr>\n",
       "  </thead>\n",
       "  <tbody>\n",
       "    <tr>\n",
       "      <th>0</th>\n",
       "      <td>int64</td>\n",
       "      <td>3147</td>\n",
       "    </tr>\n",
       "    <tr>\n",
       "      <th>1</th>\n",
       "      <td>float64</td>\n",
       "      <td>1845</td>\n",
       "    </tr>\n",
       "    <tr>\n",
       "      <th>2</th>\n",
       "      <td>object</td>\n",
       "      <td>1</td>\n",
       "    </tr>\n",
       "  </tbody>\n",
       "</table>\n",
       "</div>"
      ],
      "text/plain": [
       "  Column Type  Count\n",
       "0       int64   3147\n",
       "1     float64   1845\n",
       "2      object      1"
      ]
     },
     "execution_count": 7,
     "metadata": {},
     "output_type": "execute_result"
    }
   ],
   "source": [
    "dtype_df = train_df.dtypes.reset_index()\n",
    "dtype_df.columns = [\"Count\", \"Column Type\"]\n",
    "dtype_df.groupby(\"Column Type\").aggregate('count').reset_index()"
   ]
  },
  {
   "cell_type": "code",
   "execution_count": 8,
   "id": "0455e100",
   "metadata": {
    "execution": {
     "iopub.execute_input": "2021-10-18T11:09:36.113976Z",
     "iopub.status.busy": "2021-10-18T11:09:36.113381Z",
     "iopub.status.idle": "2021-10-18T11:09:36.471532Z",
     "shell.execute_reply": "2021-10-18T11:09:36.470975Z",
     "shell.execute_reply.started": "2021-10-18T09:10:38.986041Z"
    },
    "papermill": {
     "duration": 0.376277,
     "end_time": "2021-10-18T11:09:36.471678",
     "exception": false,
     "start_time": "2021-10-18T11:09:36.095401",
     "status": "completed"
    },
    "tags": []
   },
   "outputs": [
    {
     "data": {
      "text/plain": [
       "Text(0.5, 1.0, 'Target Histogram')"
      ]
     },
     "execution_count": 8,
     "metadata": {},
     "output_type": "execute_result"
    },
    {
     "data": {
      "image/png": "[encoded data removed]",
      "text/plain": [
       "<Figure size 864x576 with 1 Axes>"
      ]
     },
     "metadata": {
      "needs_background": "light"
     },
     "output_type": "display_data"
    }
   ],
   "source": [
    "plt.figure(figsize=(12,8))\n",
    "sns.distplot(train_df[\"target\"].values, bins=50, kde=False)\n",
    "plt.xlabel('Target', fontsize=12)\n",
    "plt.title(\"Target Histogram\", fontsize=14)\n"
   ]
  },
  {
   "cell_type": "code",
   "execution_count": 9,
   "id": "69ac29b0",
   "metadata": {
    "execution": {
     "iopub.execute_input": "2021-10-18T11:09:36.507580Z",
     "iopub.status.busy": "2021-10-18T11:09:36.506970Z",
     "iopub.status.idle": "2021-10-18T11:09:36.819246Z",
     "shell.execute_reply": "2021-10-18T11:09:36.819717Z",
     "shell.execute_reply.started": "2021-10-18T09:10:39.386735Z"
    },
    "papermill": {
     "duration": 0.331939,
     "end_time": "2021-10-18T11:09:36.819922",
     "exception": false,
     "start_time": "2021-10-18T11:09:36.487983",
     "status": "completed"
    },
    "tags": []
   },
   "outputs": [
    {
     "data": {
      "text/plain": [
       "Text(0.5, 1.0, 'Log of Target Histogram')"
      ]
     },
     "execution_count": 9,
     "metadata": {},
     "output_type": "execute_result"
    },
    {
     "data": {
      "image/png": "[encoded data removed]",
      "text/plain": [
       "<Figure size 864x576 with 1 Axes>"
      ]
     },
     "metadata": {
      "needs_background": "light"
     },
     "output_type": "display_data"
    }
   ],
   "source": [
    "# use log1p instead of log to get the normalized value for even tiny values -> 0\n",
    "\n",
    "plt.figure(figsize=(12,8))\n",
    "sns.distplot( np.log1p(train_df[\"target\"].values), bins=50, kde=False)\n",
    "plt.xlabel('Target', fontsize=12)\n",
    "plt.title(\"Log of Target Histogram\", fontsize=14)\n"
   ]
  },
  {
   "cell_type": "code",
   "execution_count": 10,
   "id": "2b1f7649",
   "metadata": {
    "execution": {
     "iopub.execute_input": "2021-10-18T11:09:36.858375Z",
     "iopub.status.busy": "2021-10-18T11:09:36.857807Z",
     "iopub.status.idle": "2021-10-18T11:09:38.096510Z",
     "shell.execute_reply": "2021-10-18T11:09:38.096952Z",
     "shell.execute_reply.started": "2021-10-18T09:10:39.78605Z"
    },
    "papermill": {
     "duration": 1.25968,
     "end_time": "2021-10-18T11:09:38.097125",
     "exception": false,
     "start_time": "2021-10-18T11:09:36.837445",
     "status": "completed"
    },
    "tags": []
   },
   "outputs": [
    {
     "name": "stdout",
     "output_type": "stream",
     "text": [
      "Removed `256` Constant Columns\n",
      "\n"
     ]
    }
   ],
   "source": [
    "# check and remove constant columns\n",
    "colsToRemove = []\n",
    "for col in train_df.columns:\n",
    "    if col != 'ID' and col != 'target':\n",
    "        if train_df[col].std() == 0: \n",
    "            colsToRemove.append(col)\n",
    "        \n",
    "# remove constant columns in the training set\n",
    "train_df.drop(colsToRemove, axis=1, inplace=True)\n",
    "\n",
    "# remove constant columns in the test set\n",
    "test_df.drop(colsToRemove, axis=1, inplace=True) \n",
    "\n",
    "print(f\"Removed `{len(colsToRemove)}` Constant Columns\\n\")\n"
   ]
  },
  {
   "cell_type": "code",
   "execution_count": 11,
   "id": "33f54794",
   "metadata": {
    "execution": {
     "iopub.execute_input": "2021-10-18T11:09:38.141803Z",
     "iopub.status.busy": "2021-10-18T11:09:38.140756Z",
     "iopub.status.idle": "2021-10-18T11:09:39.195228Z",
     "shell.execute_reply": "2021-10-18T11:09:39.195722Z",
     "shell.execute_reply.started": "2021-10-18T09:10:41.222131Z"
    },
    "papermill": {
     "duration": 1.081236,
     "end_time": "2021-10-18T11:09:39.195890",
     "exception": false,
     "start_time": "2021-10-18T11:09:38.114654",
     "status": "completed"
    },
    "tags": []
   },
   "outputs": [
    {
     "name": "stdout",
     "output_type": "stream",
     "text": [
      "num of duplicated cols in the train set:  0\n"
     ]
    }
   ],
   "source": [
    "# check for duplicate columns\n",
    "\n",
    "def duplicate_columns(df):\n",
    "    dups = []\n",
    "    columns = df.columns\n",
    "\n",
    "    for i in range(len(columns)):\n",
    "        col1 = df.iloc[:, i]\n",
    "        for j in range(i + 1, len(columns)):\n",
    "            col2 = df.iloc[:, j]\n",
    "            # break early if dtypes aren't the same (helps deal with\n",
    "            # categorical dtypes)\n",
    "            if col1.dtype is not col2.dtype:\n",
    "                break\n",
    "            # otherwise compare values\n",
    "            if col1.equals(col2):\n",
    "                dups.append(columns[i])\n",
    "                break\n",
    "    return dups\n",
    "\n",
    "\n",
    "train_dups = duplicate_columns(train_df)\n",
    "print('num of duplicated cols in the train set: ', len(train_dups))\n",
    "\n"
   ]
  },
  {
   "cell_type": "code",
   "execution_count": 12,
   "id": "cd4ac785",
   "metadata": {
    "execution": {
     "iopub.execute_input": "2021-10-18T11:09:39.235079Z",
     "iopub.status.busy": "2021-10-18T11:09:39.234432Z",
     "iopub.status.idle": "2021-10-18T11:09:40.032401Z",
     "shell.execute_reply": "2021-10-18T11:09:40.032894Z",
     "shell.execute_reply.started": "2021-10-18T09:12:33.201307Z"
    },
    "papermill": {
     "duration": 0.819379,
     "end_time": "2021-10-18T11:09:40.033079",
     "exception": false,
     "start_time": "2021-10-18T11:09:39.213700",
     "status": "completed"
    },
    "tags": []
   },
   "outputs": [],
   "source": [
    "# dropping useless features\n",
    "\n",
    "useless_features = list(set( train_dups))\n",
    "\n",
    "train_df = train_df.drop(useless_features, axis=1)\n",
    "test_df = test_df.drop(useless_features, axis=1)"
   ]
  },
  {
   "cell_type": "code",
   "execution_count": 13,
   "id": "8289829b",
   "metadata": {
    "execution": {
     "iopub.execute_input": "2021-10-18T11:09:40.073428Z",
     "iopub.status.busy": "2021-10-18T11:09:40.072804Z",
     "iopub.status.idle": "2021-10-18T11:09:40.678869Z",
     "shell.execute_reply": "2021-10-18T11:09:40.679583Z",
     "shell.execute_reply.started": "2021-10-18T09:13:10.645704Z"
    },
    "papermill": {
     "duration": 0.628088,
     "end_time": "2021-10-18T11:09:40.679794",
     "exception": false,
     "start_time": "2021-10-18T11:09:40.051706",
     "status": "completed"
    },
    "tags": []
   },
   "outputs": [],
   "source": [
    "x = train_df.drop(train_df[['ID','target']],axis = 1)\n",
    "y = np.log1p(train_df[\"target\"])\n",
    "X_test = test_df.drop([\"ID\"], axis=1)\n"
   ]
  },
  {
   "cell_type": "code",
   "execution_count": 14,
   "id": "4edc9fcf",
   "metadata": {
    "execution": {
     "iopub.execute_input": "2021-10-18T11:09:40.719625Z",
     "iopub.status.busy": "2021-10-18T11:09:40.719005Z",
     "iopub.status.idle": "2021-10-18T11:09:40.802326Z",
     "shell.execute_reply": "2021-10-18T11:09:40.802799Z",
     "shell.execute_reply.started": "2021-10-18T09:13:22.718963Z"
    },
    "papermill": {
     "duration": 0.105295,
     "end_time": "2021-10-18T11:09:40.802993",
     "exception": false,
     "start_time": "2021-10-18T11:09:40.697698",
     "status": "completed"
    },
    "tags": []
   },
   "outputs": [],
   "source": [
    "from sklearn.model_selection import train_test_split\n",
    "X_train, X_valid, y_train, y_valid = train_test_split(x, y,test_size=0.2, random_state=22)"
   ]
  },
  {
   "cell_type": "markdown",
   "id": "ed9a29c0",
   "metadata": {
    "papermill": {
     "duration": 0.0178,
     "end_time": "2021-10-18T11:09:40.838393",
     "exception": false,
     "start_time": "2021-10-18T11:09:40.820593",
     "status": "completed"
    },
    "tags": []
   },
   "source": [
    "# create model"
   ]
  },
  {
   "cell_type": "code",
   "execution_count": 15,
   "id": "7db72181",
   "metadata": {
    "execution": {
     "iopub.execute_input": "2021-10-18T11:09:40.878263Z",
     "iopub.status.busy": "2021-10-18T11:09:40.877650Z",
     "iopub.status.idle": "2021-10-18T11:09:40.884175Z",
     "shell.execute_reply": "2021-10-18T11:09:40.884620Z",
     "shell.execute_reply.started": "2021-10-18T09:17:52.034656Z"
    },
    "papermill": {
     "duration": 0.028297,
     "end_time": "2021-10-18T11:09:40.884789",
     "exception": false,
     "start_time": "2021-10-18T11:09:40.856492",
     "status": "completed"
    },
    "tags": []
   },
   "outputs": [],
   "source": [
    "def run_xgb(train_X, train_y, val_X, val_y, test_X):\n",
    "    params = {'objective': 'reg:linear', \n",
    "          'eval_metric': 'rmse',\n",
    "          'eta': 0.005,\n",
    "          'max_depth': 15, \n",
    "          'subsample': 0.7, \n",
    "          'colsample_bytree': 0.5,\n",
    "          'alpha':0,\n",
    "          'random_state': 42, \n",
    "          'silent': True}\n",
    "    \n",
    "    tr_data = xgb.DMatrix(X_train, y_train)\n",
    "    va_data = xgb.DMatrix(X_valid, y_valid)\n",
    "    \n",
    "    watchlist = [(tr_data, 'train'), (va_data, 'valid')]\n",
    "    \n",
    "    model_xgb = xgb.train(params, tr_data, 2000, watchlist, maximize=False, early_stopping_rounds = 30, verbose_eval=100)\n",
    "    \n",
    "    dtest = xgb.DMatrix(test_X)\n",
    "    xgb_pred_y = np.expm1(model_xgb.predict(dtest, ntree_limit=model_xgb.best_ntree_limit))\n",
    "    \n",
    "    return xgb_pred_y, model_xgb"
   ]
  },
  {
   "cell_type": "code",
   "execution_count": 16,
   "id": "ddd55143",
   "metadata": {
    "execution": {
     "iopub.execute_input": "2021-10-18T11:09:40.923842Z",
     "iopub.status.busy": "2021-10-18T11:09:40.923224Z",
     "iopub.status.idle": "2021-10-18T11:23:15.177512Z",
     "shell.execute_reply": "2021-10-18T11:23:15.178009Z",
     "shell.execute_reply.started": "2021-10-18T09:17:55.189828Z"
    },
    "papermill": {
     "duration": 814.275694,
     "end_time": "2021-10-18T11:23:15.178282",
     "exception": false,
     "start_time": "2021-10-18T11:09:40.902588",
     "status": "completed"
    },
    "tags": []
   },
   "outputs": [
    {
     "name": "stdout",
     "output_type": "stream",
     "text": [
      "[11:09:41] WARNING: ../src/objective/regression_obj.cu:171: reg:linear is now deprecated in favor of reg:squarederror.\n",
      "[11:09:41] WARNING: ../src/learner.cc:573: \n",
      "Parameters: { \"silent\" } might not be used.\n",
      "\n",
      "  This may not be accurate due to some parameters are only used in language bindings but\n",
      "  passed down to XGBoost core.  Or some parameters are not used but slip through this\n",
      "  verification. Please open an issue if you find above cases.\n",
      "\n",
      "\n",
      "[0]\ttrain-rmse:14.01215\tvalid-rmse:14.10126\n",
      "[100]\ttrain-rmse:8.59591\tvalid-rmse:8.68692\n",
      "[200]\ttrain-rmse:5.34972\tvalid-rmse:5.47053\n",
      "[300]\ttrain-rmse:3.40927\tvalid-rmse:3.58835\n",
      "[400]\ttrain-rmse:2.25908\tvalid-rmse:2.51783\n",
      "[500]\ttrain-rmse:1.59292\tvalid-rmse:1.94784\n",
      "[600]\ttrain-rmse:1.21975\tvalid-rmse:1.66719\n",
      "[700]\ttrain-rmse:1.01635\tvalid-rmse:1.53728\n",
      "[800]\ttrain-rmse:0.90451\tvalid-rmse:1.47698\n",
      "[900]\ttrain-rmse:0.84083\tvalid-rmse:1.44906\n",
      "[1000]\ttrain-rmse:0.80080\tvalid-rmse:1.43552\n",
      "[1100]\ttrain-rmse:0.77118\tvalid-rmse:1.42835\n",
      "[1200]\ttrain-rmse:0.74658\tvalid-rmse:1.42377\n",
      "[1300]\ttrain-rmse:0.72959\tvalid-rmse:1.42184\n",
      "[1400]\ttrain-rmse:0.71251\tvalid-rmse:1.42078\n",
      "[1500]\ttrain-rmse:0.69323\tvalid-rmse:1.41920\n",
      "[1600]\ttrain-rmse:0.67753\tvalid-rmse:1.41855\n",
      "[1700]\ttrain-rmse:0.66007\tvalid-rmse:1.41768\n",
      "[1740]\ttrain-rmse:0.65390\tvalid-rmse:1.41752\n",
      "XGB Training Completed...\n"
     ]
    }
   ],
   "source": [
    "pred_test_xgb, model_xgb = run_xgb(X_train, X_valid, y_train, y_valid, X_test)\n",
    "print(\"XGB Training Completed...\")"
   ]
  },
  {
   "cell_type": "markdown",
   "id": "76ab33da",
   "metadata": {
    "papermill": {
     "duration": 0.023821,
     "end_time": "2021-10-18T11:23:15.225021",
     "exception": false,
     "start_time": "2021-10-18T11:23:15.201200",
     "status": "completed"
    },
    "tags": []
   },
   "source": [
    "# Submit to the competition\n"
   ]
  },
  {
   "cell_type": "code",
   "execution_count": 17,
   "id": "57e0f3db",
   "metadata": {
    "execution": {
     "iopub.execute_input": "2021-10-18T11:23:15.275984Z",
     "iopub.status.busy": "2021-10-18T11:23:15.275025Z",
     "iopub.status.idle": "2021-10-18T11:23:15.442529Z",
     "shell.execute_reply": "2021-10-18T11:23:15.443072Z",
     "shell.execute_reply.started": "2021-10-18T09:33:22.229053Z"
    },
    "papermill": {
     "duration": 0.19481,
     "end_time": "2021-10-18T11:23:15.443242",
     "exception": false,
     "start_time": "2021-10-18T11:23:15.248432",
     "status": "completed"
    },
    "tags": []
   },
   "outputs": [
    {
     "name": "stdout",
     "output_type": "stream",
     "text": [
      "          ID       target\n",
      "0  000137c73  1402165.625\n",
      "1  00021489f  1678278.250\n",
      "2  0004d7953  1842289.750\n",
      "3  00056a333  5372255.000\n",
      "4  00056d8eb  1789114.750\n"
     ]
    }
   ],
   "source": [
    "sub = pd.read_csv('../input/santander-value-prediction-challenge/sample_submission.csv')\n",
    "sub[\"target\"] = pred_test_xgb\n",
    "print(sub.head())\n",
    "sub.to_csv('sub_lgb_xgb.csv', index=False)"
   ]
  },
  {
   "cell_type": "code",
   "execution_count": null,
   "id": "f8fa5665",
   "metadata": {
    "papermill": {
     "duration": 0.021973,
     "end_time": "2021-10-18T11:23:15.488010",
     "exception": false,
     "start_time": "2021-10-18T11:23:15.466037",
     "status": "completed"
    },
    "tags": []
   },
   "outputs": [],
   "source": []
  }
 ],
 "metadata": {
  "kernelspec": {
   "display_name": "Python 3",
   "language": "python",
   "name": "python3"
  },
  "language_info": {
   "codemirror_mode": {
    "name": "ipython",
    "version": 3
   },
   "file_extension": ".py",
   "mimetype": "text/x-python",
   "name": "python",
   "nbconvert_exporter": "python",
   "pygments_lexer": "ipython3",
   "version": "3.7.10"
  },
  "papermill": {
   "default_parameters": {},
   "duration": 888.783393,
   "end_time": "2021-10-18T11:23:16.521919",
   "environment_variables": {},
   "exception": null,
   "input_path": "__notebook__.ipynb",
   "output_path": "__notebook__.ipynb",
   "parameters": {},
   "start_time": "2021-10-18T11:08:27.738526",
   "version": "2.3.3"
  }
 },
 "nbformat": 4,
 "nbformat_minor": 5
}
